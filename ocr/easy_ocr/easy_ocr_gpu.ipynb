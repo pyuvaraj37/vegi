{
  "cells": [
    {
      "cell_type": "code",
      "execution_count": null,
      "metadata": {
        "id": "PvoXDrPgVyx3"
      },
      "outputs": [],
      "source": [
        "pip install easyocr"
      ]
    },
    {
      "cell_type": "code",
      "execution_count": 7,
      "metadata": {
        "colab": {
          "base_uri": "https://localhost:8080/"
        },
        "id": "37NkCq1SVCUs",
        "outputId": "1644f392-f8ae-4365-9633-4e052154b287"
      },
      "outputs": [
        {
          "name": "stdout",
          "output_type": "stream",
          "text": [
            "Using device: cuda\n"
          ]
        },
        {
          "name": "stderr",
          "output_type": "stream",
          "text": [
            "/usr/local/lib/python3.10/dist-packages/torch/nn/modules/conv.py:456: UserWarning: Plan failed with a cudnnException: CUDNN_BACKEND_EXECUTION_PLAN_DESCRIPTOR: cudnnFinalize Descriptor Failed cudnn_status: CUDNN_STATUS_NOT_SUPPORTED (Triggered internally at ../aten/src/ATen/native/cudnn/Conv_v8.cpp:919.)\n",
            "  return F.conv2d(input, weight, bias, self.stride,\n"
          ]
        },
        {
          "name": "stdout",
          "output_type": "stream",
          "text": [
            "['Hey Hou are you doing This Charan']\n",
            "GPU Total Time: 0.5963557500000434\n",
            "[\"Hello User! I'm Donut-OCR\"]\n",
            "GPU Total Time: 0.07248877500001072\n",
            "['I like to drink Brisk soda']\n",
            "GPU Total Time: 0.07692647900000793\n",
            "['Pikka Pikka Pikka']\n",
            "GPU Total Time: 0.07177761200000532\n",
            "['Right now wish was named Bob\" instead of Ash\"\"']\n",
            "GPU Total Time: 0.10615609000001314\n",
            "['\"My dream is to become the greatest Pokemon master! That way the whole village will stop disrespecting me and treat me like Im somebody; somebody importantl\"']\n",
            "GPU Total Time: 0.13028006900003675\n",
            "['\"Pikachu, please stay Nith', 'forever']\n",
            "GPU Total Time: 0.061609185999941474\n"
          ]
        }
      ],
      "source": [
        "import easyocr\n",
        "import matplotlib.pyplot as plt\n",
        "import torch\n",
        "from timeit import default_timer as timer\n",
        "\n",
        "# Check if CUDA is available and set the device\n",
        "device = torch.device('cuda' if torch.cuda.is_available() else 'cpu')\n",
        "print(f\"Using device: {device}\")\n",
        "\n",
        "# Initialize the EasyOCR reader with GPU support if available\n",
        "reader = easyocr.Reader(['en'], gpu=torch.cuda.is_available())\n",
        "\n",
        "for i in range(1,8):\n",
        "    start = timer()\n",
        "    image_path = \"./sample_data/images/test_image_\"+str(i)+\".png\"\n",
        "    result = reader.readtext(image_path, detail = 0, paragraph=True)\n",
        "    print(result)\n",
        "    #End Timer\n",
        "    # print(f\"CPU Total Time: {timer() - start}\")\n",
        "    print(f\"GPU Total Time: {timer() - start}\")\n"
      ]
    }
  ],
  "metadata": {
    "accelerator": "GPU",
    "colab": {
      "gpuType": "T4",
      "provenance": []
    },
    "kernelspec": {
      "display_name": "Python 3",
      "name": "python3"
    },
    "language_info": {
      "name": "python"
    }
  },
  "nbformat": 4,
  "nbformat_minor": 0
}
